{
 "cells": [
  {
   "cell_type": "markdown",
   "id": "0430b7e5",
   "metadata": {},
   "source": [
    "![tecsup_logo.png](data:image/png;base64,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)\n",
    "\n",
    "# DEPARTAMENTO DE TECNOLOGÍA DIGITAL Y GESTIÓN\n",
    "## Carrera de Big Data y Ciencia de Datos\n",
    "# LABORATORIO 11: ALGORITMOS GENÉTICOS Y EVOLUCIÓN DE LA POBLACIÓN\n",
    "\n",
    "## Integrantes:\n",
    "- Joshua Jian Cora Salazar\n",
    "- Kevin Estiben Olortegui Perez"
   ]
  },
  {
   "cell_type": "markdown",
   "id": "ab764028",
   "metadata": {},
   "source": [
    "## 1. VARIABLES GLOBALES:"
   ]
  },
  {
   "cell_type": "code",
   "execution_count": 1,
   "id": "14e225dc",
   "metadata": {},
   "outputs": [],
   "source": [
    "# URL del dataset CSV (convertido para descarga directa desde Google Drive)\n",
    "DATA_URL: str = \"https://drive.google.com/uc?id=1Gn2_7CGAX0D0M3Ka3JKSjlEdrWbKCxH0\"\n",
    "\n",
    "# Columnas numéricas relevantes para el análisis\n",
    "NUMERIC_COLS: list[str] = ['TV', 'Radio', 'Newspaper', 'Sales']\n",
    "\n",
    "# Semilla para reproducibilidad\n",
    "SEED: int = 42"
   ]
  },
  {
   "cell_type": "code",
   "execution_count": 2,
   "id": "4202cd90",
   "metadata": {},
   "outputs": [],
   "source": [
    "import polars as pl\n",
    "import numpy as np\n",
    "import matplotlib.pyplot as plt\n",
    "from sklearn.preprocessing import StandardScaler\n",
    "from sklearn.linear_model import LinearRegression\n",
    "from sklearn.model_selection import train_test_split\n",
    "from sklearn.metrics import r2_score\n",
    "import random\n",
    "from deap import base, creator, tools, algorithms"
   ]
  },
  {
   "cell_type": "code",
   "execution_count": 3,
   "id": "12b33b4a",
   "metadata": {},
   "outputs": [],
   "source": [
    "# !pip install polars numpy matplotlib scikit-learn deap"
   ]
  },
  {
   "cell_type": "markdown",
   "id": "6b3aa107",
   "metadata": {},
   "source": [
    "## 2. FUNCIONES (utils.py)"
   ]
  },
  {
   "cell_type": "code",
   "execution_count": 4,
   "id": "40436b14",
   "metadata": {},
   "outputs": [
    {
     "name": "stdout",
     "output_type": "stream",
     "text": [
      "Overwriting utils.py\n"
     ]
    }
   ],
   "source": [
    "%%writefile utils.py\n",
    "import polars as pl\n",
    "import numpy as np\n",
    "import matplotlib.pyplot as plt\n",
    "from typing import List, Tuple\n",
    "from sklearn.preprocessing import StandardScaler\n",
    "from sklearn.linear_model import LinearRegression\n",
    "from sklearn.model_selection import train_test_split\n",
    "from sklearn.metrics import r2_score\n",
    "\n",
    "\n",
    "def load_data(url: str) -> pl.DataFrame:\n",
    "    \"\"\"\n",
    "    Carga un archivo CSV desde una URL.\n",
    "\n",
    "    Args:\n",
    "        url (str): URL del archivo CSV.\n",
    "\n",
    "    Returns:\n",
    "        pl.DataFrame: DataFrame con los datos cargados.\n",
    "    \"\"\"\n",
    "    return pl.read_csv(url)\n",
    "\n",
    "\n",
    "def remove_outliers(df: pl.DataFrame, columns: List[str]) -> pl.DataFrame:\n",
    "    \"\"\"\n",
    "    Elimina outliers univariados usando el rango intercuartílico (IQR).\n",
    "\n",
    "    Args:\n",
    "        df (pl.DataFrame): DataFrame original.\n",
    "        columns (List[str]): Lista de columnas a evaluar.\n",
    "\n",
    "    Returns:\n",
    "        pl.DataFrame: DataFrame sin outliers.\n",
    "    \"\"\"\n",
    "    for col in columns:\n",
    "        if df[col].dtype in [pl.Float64, pl.Int64]:\n",
    "            q1 = df[col].quantile(0.25)\n",
    "            q3 = df[col].quantile(0.75)\n",
    "            iqr = q3 - q1\n",
    "            lower = q1 - 1.5 * iqr\n",
    "            upper = q3 + 1.5 * iqr\n",
    "            df = df.filter((pl.col(col) >= lower) & (pl.col(col) <= upper))\n",
    "    return df\n",
    "\n",
    "\n",
    "def scale_columns(df: pl.DataFrame, columns: List[str]) -> pl.DataFrame:\n",
    "    \"\"\"\n",
    "    Aplica escalamiento estándar (Z-score) a las columnas numéricas.\n",
    "\n",
    "    Args:\n",
    "        df (pl.DataFrame): DataFrame original.\n",
    "        columns (List[str]): Columnas a escalar.\n",
    "\n",
    "    Returns:\n",
    "        pl.DataFrame: DataFrame con columnas escaladas.\n",
    "    \"\"\"\n",
    "    scaler = StandardScaler()\n",
    "    scaled = [pl.Series(f\"{col}_scaled\", scaler.fit_transform(df[col].to_numpy().reshape(-1, 1)).flatten()) for col in columns]\n",
    "    return df.with_columns(scaled)\n",
    "\n",
    "\n",
    "def evaluate_model(X: np.ndarray, y: np.ndarray) -> float:\n",
    "    \"\"\"\n",
    "    Evalúa un modelo de regresión lineal con train/test split (80/20).\n",
    "\n",
    "    Args:\n",
    "        X (np.ndarray): Matriz de características.\n",
    "        y (np.ndarray): Vector objetivo.\n",
    "\n",
    "    Returns:\n",
    "        float: R² score del modelo.\n",
    "    \"\"\"\n",
    "    X_train, X_test, y_train, y_test = train_test_split(X, y, test_size=0.2, random_state=42)\n",
    "    model = LinearRegression()\n",
    "    model.fit(X_train, y_train)\n",
    "    y_pred = model.predict(X_test)\n",
    "    return r2_score(y_test, y_pred)\n",
    "\n",
    "\n",
    "def train_final_model(X: np.ndarray, y: np.ndarray) -> Tuple[LinearRegression, float]:\n",
    "    \"\"\"\n",
    "    Entrena y evalúa un modelo final de regresión lineal.\n",
    "\n",
    "    Args:\n",
    "        X (np.ndarray): Características seleccionadas.\n",
    "        y (np.ndarray): Objetivo.\n",
    "\n",
    "    Returns:\n",
    "        Tuple[LinearRegression, float]: Modelo entrenado y R² en test.\n",
    "    \"\"\"\n",
    "    X_train, X_test, y_train, y_test = train_test_split(X, y, test_size=0.2, random_state=42)\n",
    "    model = LinearRegression()\n",
    "    model.fit(X_train, y_train)\n",
    "    y_pred = model.predict(X_test)\n",
    "    return model, r2_score(y_test, y_pred)\n",
    "\n",
    "\n",
    "def plot_evolution(logbook) -> None:\n",
    "    \"\"\"\n",
    "    Grafica la evolución del coeficiente R² por generación.\n",
    "\n",
    "    Args:\n",
    "        logbook: Registro generado por DEAP.\n",
    "    \"\"\"\n",
    "    import matplotlib.pyplot as plt\n",
    "    gens = logbook.select('gen')\n",
    "    maxs = logbook.select('max')\n",
    "    avgs = logbook.select('avg')\n",
    "\n",
    "    plt.figure(figsize=(10, 6))\n",
    "    plt.plot(gens, maxs, label=\"Máximo R²\")\n",
    "    plt.plot(gens, avgs, label=\"Promedio R²\")\n",
    "    plt.xlabel(\"Generación\")\n",
    "    plt.ylabel(\"R²\")\n",
    "    plt.title(\"Evolución del R²\")\n",
    "    plt.legend()\n",
    "    plt.grid(True)\n",
    "    plt.show()\n",
    "\n",
    "\n",
    "def plot_predictions(y_true: np.ndarray, y_pred: np.ndarray) -> None:\n",
    "    \"\"\"\n",
    "    Grafica las predicciones frente a los valores reales.\n",
    "\n",
    "    Args:\n",
    "        y_true (np.ndarray): Valores reales.\n",
    "        y_pred (np.ndarray): Valores predichos.\n",
    "\n",
    "    Returns:\n",
    "        None\n",
    "    \"\"\"\n",
    "    plt.figure(figsize=(8, 6))\n",
    "    plt.scatter(y_true, y_pred, alpha=0.6)\n",
    "    plt.plot([y_true.min(), y_true.max()], [y_true.min(), y_true.max()], 'k--')\n",
    "    plt.xlabel('Valores Reales (escalados)')\n",
    "    plt.ylabel('Predicciones (escalados)')\n",
    "    plt.title('Predicciones vs Valores Reales')\n",
    "    plt.grid(True)\n",
    "    plt.show()"
   ]
  },
  {
   "cell_type": "markdown",
   "id": "bf5f72ed",
   "metadata": {},
   "source": [
    "## 3. IMPLEMENTACIÓN PRINCIPAL"
   ]
  },
  {
   "cell_type": "markdown",
   "id": "78b8425f",
   "metadata": {},
   "source": [
    "### Parte A: Preprocesamiento de datos"
   ]
  },
  {
   "cell_type": "code",
   "execution_count": 5,
   "id": "61d7aa65",
   "metadata": {},
   "outputs": [],
   "source": [
    "from utils import *\n",
    "from deap import base, creator, tools, algorithms\n",
    "import random"
   ]
  },
  {
   "cell_type": "code",
   "execution_count": 6,
   "id": "e432cc0b",
   "metadata": {},
   "outputs": [],
   "source": [
    "random.seed(SEED)\n",
    "np.random.seed(SEED)"
   ]
  },
  {
   "cell_type": "markdown",
   "id": "45b8dd79",
   "metadata": {},
   "source": [
    "Cargar y limpiar datos"
   ]
  },
  {
   "cell_type": "code",
   "execution_count": 7,
   "id": "2575afe7",
   "metadata": {},
   "outputs": [
    {
     "name": "stdout",
     "output_type": "stream",
     "text": [
      "Cargando datos...\n",
      "Tratando outliers...\n",
      "Escalando columnas...\n"
     ]
    }
   ],
   "source": [
    "print(\"Cargando datos...\")\n",
    "df = load_data(DATA_URL)\n",
    "print(\"Tratando outliers...\")\n",
    "df_clean = remove_outliers(df, NUMERIC_COLS)\n",
    "print(\"Escalando columnas...\")\n",
    "df_scaled = scale_columns(df_clean, NUMERIC_COLS)"
   ]
  },
  {
   "cell_type": "markdown",
   "id": "b78ae8d7",
   "metadata": {},
   "source": [
    "### Parte B: Configuración y ejecución del algoritmo genético"
   ]
  },
  {
   "cell_type": "code",
   "execution_count": 8,
   "id": "fae16698",
   "metadata": {},
   "outputs": [],
   "source": [
    "X = df_scaled.select([f\"{col}_scaled\" for col in NUMERIC_COLS if col != 'Sales']).to_numpy()\n",
    "y = df_scaled['Sales_scaled'].to_numpy()\n",
    "feature_names = [col for col in NUMERIC_COLS if col != 'Sales']\n",
    "\n",
    "creator.create(\"FitnessMax\", base.Fitness, weights=(1.0,))\n",
    "creator.create(\"Individual\", list, fitness=creator.FitnessMax)\n",
    "\n",
    "# Toolbox setup\n",
    "toolbox = base.Toolbox()\n",
    "toolbox.register(\"attr_bool\", random.randint, 0, 1)\n",
    "toolbox.register(\"individual\", tools.initRepeat, creator.Individual, toolbox.attr_bool, n=len(feature_names))\n",
    "toolbox.register(\"population\", tools.initRepeat, list, toolbox.individual)\n",
    "\n",
    "def eval_individual(individual):\n",
    "    selected = [feature_names[i] for i, bit in enumerate(individual) if bit == 1]\n",
    "    if not selected:\n",
    "        return 0.0,\n",
    "    X_sel = df_scaled.select([f\"{col}_scaled\" for col in selected]).to_numpy()\n",
    "    return evaluate_model(X_sel, y),\n",
    "\n",
    "toolbox.register(\"evaluate\", eval_individual)\n",
    "toolbox.register(\"mate\", tools.cxTwoPoint)\n",
    "toolbox.register(\"mutate\", tools.mutFlipBit, indpb=0.05)\n",
    "toolbox.register(\"select\", tools.selTournament, tournsize=3)\n",
    "\n",
    "params = {'population_size': 50, 'crossover_prob': 0.7, 'mutation_prob': 0.2, 'generations': 20}\n",
    "pop = toolbox.population(n=params['population_size'])\n",
    "hof = tools.HallOfFame(1)\n",
    "stats = tools.Statistics(lambda ind: ind.fitness.values)\n",
    "stats.register(\"avg\", np.mean)\n",
    "stats.register(\"min\", np.min)\n",
    "stats.register(\"max\", np.max)\n",
    "\n",
    "pop, log = algorithms.eaSimple(pop, toolbox, cxpb=params['crossover_prob'], mutpb=params['mutation_prob'],\n",
    "                               ngen=params['generations'], stats=stats, halloffame=hof, verbose=False)"
   ]
  },
  {
   "cell_type": "markdown",
   "id": "13170f20",
   "metadata": {},
   "source": [
    "### Parte C: Evaluación y visualización"
   ]
  },
  {
   "cell_type": "code",
   "execution_count": 9,
   "id": "5e4b021f",
   "metadata": {},
   "outputs": [
    {
     "name": "stdout",
     "output_type": "stream",
     "text": [
      "\n",
      "Variables seleccionadas: ['TV', 'Radio']\n",
      "\n",
      "R² final en test: 0.9029\n",
      "\n",
      "Coeficientes del modelo:\n",
      "TV: 0.7444\n",
      "Radio: 0.5294\n",
      "Intercepto: 0.0007\n"
     ]
    },
    {
     "data": {
      "image/png": "[encoded data removed]",
      "text/plain": [
       "<Figure size 1000x600 with 1 Axes>"
      ]
     },
     "metadata": {},
     "output_type": "display_data"
    },
    {
     "data": {
      "image/png": "[encoded data removed]",
      "text/plain": [
       "<Figure size 800x600 with 1 Axes>"
      ]
     },
     "metadata": {},
     "output_type": "display_data"
    }
   ],
   "source": [
    "best_ind = hof[0]\n",
    "selected_features = [feature_names[i] for i, bit in enumerate(best_ind) if bit == 1]\n",
    "print(\"\\nVariables seleccionadas:\", selected_features)\n",
    "\n",
    "X_final = df_scaled.select([f\"{col}_scaled\" for col in selected_features]).to_numpy()\n",
    "final_model, final_r2 = train_final_model(X_final, y)\n",
    "\n",
    "print(\"\\nR² final en test:\", round(final_r2, 4))\n",
    "print(\"\\nCoeficientes del modelo:\")\n",
    "for feat, coef in zip(selected_features, final_model.coef_):\n",
    "    print(f\"{feat}: {coef:.4f}\")\n",
    "print(f\"Intercepto: {final_model.intercept_:.4f}\")\n",
    "\n",
    "plot_evolution(log)\n",
    "plot_predictions(y_true=y[::5], y_pred=final_model.predict(X_final[::5]))"
   ]
  },
  {
   "cell_type": "markdown",
   "id": "1d147ce4",
   "metadata": {},
   "source": [
    "## 4. TESTING (test_utils.py)"
   ]
  },
  {
   "cell_type": "code",
   "execution_count": 10,
   "id": "462e8146",
   "metadata": {},
   "outputs": [
    {
     "name": "stdout",
     "output_type": "stream",
     "text": [
      "Overwriting test_utils.py\n"
     ]
    }
   ],
   "source": [
    "%%writefile test_utils.py\n",
    "import pytest\n",
    "import numpy as np\n",
    "import polars as pl\n",
    "from sklearn.linear_model import LinearRegression\n",
    "from utils import (\n",
    "    remove_outliers,\n",
    "    scale_columns,\n",
    "    evaluate_model,\n",
    "    train_final_model\n",
    ")\n",
    "\n",
    "\n",
    "@pytest.fixture\n",
    "def sample_data():\n",
    "    data = {\n",
    "        \"TV\": [100, 150, 200, 300, 1000],  # 1000 es un outlier\n",
    "        \"Radio\": [20, 25, 30, 35, 40],\n",
    "        \"Newspaper\": [10, 15, 10, 15, 500],  # 500 es un outlier\n",
    "        \"Sales\": [10, 15, 20, 25, 30]\n",
    "    }\n",
    "    return pl.DataFrame(data)\n",
    "\n",
    "\n",
    "def test_remove_outliers(sample_data):\n",
    "    df_filtered = remove_outliers(sample_data, [\"TV\", \"Newspaper\"])\n",
    "    \n",
    "    # Verifica que los outliers han sido eliminados\n",
    "    assert df_filtered.shape[0] < sample_data.shape[0]\n",
    "    assert df_filtered[\"TV\"].max() < 1000\n",
    "    assert df_filtered[\"Newspaper\"].max() < 500\n",
    "\n",
    "\n",
    "def test_scale_columns(sample_data):\n",
    "    df_scaled = scale_columns(sample_data, [\"TV\", \"Radio\"])\n",
    "    \n",
    "    # Verifica que se han añadido las columnas escaladas\n",
    "    assert \"TV_scaled\" in df_scaled.columns\n",
    "    assert \"Radio_scaled\" in df_scaled.columns\n",
    "    \n",
    "    # Verifica media ~0 y std ~1\n",
    "    tv_scaled = df_scaled[\"TV_scaled\"].to_numpy()\n",
    "    assert np.isclose(tv_scaled.mean(), 0, atol=1e-7)\n",
    "    assert np.isclose(tv_scaled.std(ddof=0), 1, atol=1e-7)\n",
    "\n",
    "\n",
    "def test_evaluate_model_normal_case():\n",
    "    X = np.array([[i] for i in range(10)])\n",
    "    y = np.array([2 * i for i in range(10)])\n",
    "\n",
    "    score = evaluate_model(X, y)\n",
    "\n",
    "    assert isinstance(score, float)\n",
    "    assert 0.9 <= score <= 1.0\n",
    "\n",
    "\n",
    "\n",
    "def test_evaluate_model_empty():\n",
    "    # Edge case: vacío\n",
    "    X = np.array([]).reshape(0, 1)\n",
    "    y = np.array([])\n",
    "    \n",
    "    with pytest.raises(ValueError):\n",
    "        evaluate_model(X, y)\n",
    "\n",
    "\n",
    "def test_train_final_model_output():\n",
    "    X = np.array([[i] for i in range(10)])\n",
    "    y = np.array([2 * i for i in range(10)])\n",
    "\n",
    "    model, score = train_final_model(X, y)\n",
    "\n",
    "    assert isinstance(score, float)\n",
    "    assert isinstance(model, LinearRegression)\n",
    "    assert 0.9 <= score <= 1.0\n",
    "\n",
    "\n",
    "def test_train_final_model_mismatch_shape():\n",
    "    X = np.array([[1], [2], [3]])\n",
    "    y = np.array([1, 2])  # Mal dimensionado\n",
    "    \n",
    "    with pytest.raises(ValueError):\n",
    "        train_final_model(X, y)\n"
   ]
  },
  {
   "cell_type": "markdown",
   "id": "65b943af",
   "metadata": {},
   "source": [
    "## 5. EJECUCIÓN"
   ]
  },
  {
   "cell_type": "code",
   "execution_count": 11,
   "id": "80b95e22",
   "metadata": {},
   "outputs": [],
   "source": [
    "# !pip install pytest"
   ]
  },
  {
   "cell_type": "code",
   "execution_count": 12,
   "id": "6ac8ad90",
   "metadata": {},
   "outputs": [
    {
     "name": "stdout",
     "output_type": "stream",
     "text": [
      "\u001b[1m============================= test session starts =============================\u001b[0m\n",
      "platform win32 -- Python 3.13.3, pytest-8.3.5, pluggy-1.6.0 -- c:\\Users\\kevin\\Desktop\\MD\\lab11\\olortegui_lab11\\.venv\\Scripts\\python.exe\n",
      "cachedir: .pytest_cache\n",
      "rootdir: c:\\Users\\kevin\\Desktop\\MD\\lab11\\olortegui_lab11\n",
      "\u001b[1mcollecting ... \u001b[0mcollected 6 items\n",
      "\n",
      "test_utils.py::test_remove_outliers \u001b[32mPASSED\u001b[0m\u001b[32m                               [ 16%]\u001b[0m\n",
      "test_utils.py::test_scale_columns \u001b[32mPASSED\u001b[0m\u001b[32m                                 [ 33%]\u001b[0m\n",
      "test_utils.py::test_evaluate_model_normal_case \u001b[32mPASSED\u001b[0m\u001b[32m                    [ 50%]\u001b[0m\n",
      "test_utils.py::test_evaluate_model_empty \u001b[32mPASSED\u001b[0m\u001b[32m                          [ 66%]\u001b[0m\n",
      "test_utils.py::test_train_final_model_output \u001b[32mPASSED\u001b[0m\u001b[32m                      [ 83%]\u001b[0m\n",
      "test_utils.py::test_train_final_model_mismatch_shape \u001b[32mPASSED\u001b[0m\u001b[32m              [100%]\u001b[0m\n",
      "\n",
      "\u001b[32m============================== \u001b[32m\u001b[1m6 passed\u001b[0m\u001b[32m in 2.47s\u001b[0m\u001b[32m ==============================\u001b[0m\n"
     ]
    }
   ],
   "source": [
    "# Ejecutar los tests\n",
    "!pytest test_utils.py -v"
   ]
  }
 ],
 "metadata": {
  "kernelspec": {
   "display_name": ".venv",
   "language": "python",
   "name": "python3"
  },
  "language_info": {
   "codemirror_mode": {
    "name": "ipython",
    "version": 3
   },
   "file_extension": ".py",
   "mimetype": "text/x-python",
   "name": "python",
   "nbconvert_exporter": "python",
   "pygments_lexer": "ipython3",
   "version": "3.13.3"
  }
 },
 "nbformat": 4,
 "nbformat_minor": 5
}
